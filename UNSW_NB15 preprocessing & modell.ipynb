{
 "cells": [
  {
   "cell_type": "code",
   "execution_count": 20,
   "id": "2dc6cb3b",
   "metadata": {},
   "outputs": [],
   "source": [
    "import numpy as np \n",
    "import pandas as pd \n",
    "import tensorflow as tf\n",
    "import sys\n",
    "import sklearn\n",
    "import io\n",
    "import random\n",
    "import matplotlib.pyplot as plt\n",
    "from sklearn.preprocessing import LabelEncoder,OneHotEncoder\n",
    "from sklearn import preprocessing\n",
    "from sklearn.model_selection import KFold\n",
    "from sklearn.feature_selection import RFE\n",
    "from sklearn.tree import DecisionTreeClassifier\n",
    "from sklearn import preprocessing\n",
    "from sklearn.preprocessing import StandardScaler\n",
    "from sklearn.model_selection import train_test_split \n",
    "import warnings\n",
    "warnings.filterwarnings(\"ignore\")\n",
    "from keras.models import Sequential\n",
    "from keras.layers import Dense,LSTM,Dropout\n",
    "from scikeras.wrappers import KerasClassifier\n",
    "from keras.utils import to_categorical\n",
    "from sklearn.model_selection import cross_val_score\n",
    "from sklearn.model_selection import KFold\n",
    "from sklearn.pipeline import Pipeline\n",
    "\n"
   ]
  },
  {
   "cell_type": "code",
   "execution_count": 46,
   "id": "4ebcb729",
   "metadata": {},
   "outputs": [],
   "source": [
    "#loading the dataset \n",
    "data=pd.read_csv('UNSW_NB15_tset.csv')"
   ]
  },
  {
   "cell_type": "code",
   "execution_count": 3,
   "id": "97ee5540",
   "metadata": {},
   "outputs": [
    {
     "data": {
      "text/plain": [
       "Index(['id', 'dur', 'proto', 'service', 'state', 'spkts', 'dpkts', 'sbytes',\n",
       "       'dbytes', 'rate', 'sttl', 'dttl', 'sload', 'dload', 'sloss', 'dloss',\n",
       "       'sinpkt', 'dinpkt', 'sjit', 'djit', 'swin', 'stcpb', 'dtcpb', 'dwin',\n",
       "       'tcprtt', 'synack', 'ackdat', 'smean', 'dmean', 'trans_depth',\n",
       "       'response_body_len', 'ct_srv_src', 'ct_state_ttl', 'ct_dst_ltm',\n",
       "       'ct_src_dport_ltm', 'ct_dst_sport_ltm', 'ct_dst_src_ltm',\n",
       "       'is_ftp_login', 'ct_ftp_cmd', 'ct_flw_http_mthd', 'ct_src_ltm',\n",
       "       'ct_srv_dst', 'is_sm_ips_ports', 'attack_cat', 'label'],\n",
       "      dtype='object')"
      ]
     },
     "execution_count": 3,
     "metadata": {},
     "output_type": "execute_result"
    }
   ],
   "source": [
    "data.columns"
   ]
  },
  {
   "cell_type": "markdown",
   "id": "f0c1ea95",
   "metadata": {},
   "source": [
    "# Preprocessing"
   ]
  },
  {
   "cell_type": "code",
   "execution_count": 4,
   "id": "52fbfd84",
   "metadata": {},
   "outputs": [],
   "source": [
    "#by droping irrelevant columns we can simplify our dataset and increase the performance of the ML model on dataset\n",
    "data = data.drop(columns=['attack_cat'])"
   ]
  },
  {
   "cell_type": "raw",
   "id": "f7c76a27",
   "metadata": {},
   "source": [
    "using the fillna function to fill the missing values with the value 0 so that we cannot eliminate a big part of the dataset and with parameter 'true' that make the change on the same dataset not create a new one "
   ]
  },
  {
   "cell_type": "code",
   "execution_count": 5,
   "id": "2af73a2d",
   "metadata": {},
   "outputs": [],
   "source": [
    "# Handle missing values (fill with 0 in this example)\n",
    "data.fillna(0, inplace=True)"
   ]
  },
  {
   "cell_type": "code",
   "execution_count": 6,
   "id": "74804924",
   "metadata": {},
   "outputs": [],
   "source": [
    "# Step 2: Identify numeric and categorical features is a crucial step in our preprocessing \n",
    "#using the select_dtypes to filter columns in the data that have data types float64 and int64 \n",
    "#the columns.tolist : return our columns filtered and convert it to a list that contain the names of numeric columns \n",
    "numeric_features = data.select_dtypes(include=['float64', 'int64']).columns.tolist()\n",
    "#for categorical features we filter columns by object meaning that columns may contain strings or other data non numeric \n",
    "categorical_features = data.select_dtypes(include=['object']).columns.tolist()"
   ]
  },
  {
   "cell_type": "raw",
   "id": "ed984cc4",
   "metadata": {},
   "source": [
    "so as an conclusion : \n",
    "  numeric_features contain a list of names of numeric columns of dataset\n",
    "  categorical_features contain a list of names of categorical columns of dataset "
   ]
  },
  {
   "cell_type": "raw",
   "id": "34343dea",
   "metadata": {},
   "source": [
    "Applying the feature scaling on the numeric features to normalize or standardize the range of features to a similar scale therefore no feature dominate on the others during the training model\n",
    "\n",
    "Using the StandardScaler() class that contain 'fit_transform' methode to scale and standardize the numeric features by calculating their mean and deviation "
   ]
  },
  {
   "cell_type": "code",
   "execution_count": 7,
   "id": "a7f4a706",
   "metadata": {},
   "outputs": [],
   "source": [
    "# Feature Scaling for numeric features\n",
    "scaler = StandardScaler()\n",
    "data[numeric_features] = scaler.fit_transform(data[numeric_features])"
   ]
  },
  {
   "cell_type": "raw",
   "id": "28d4d272",
   "metadata": {},
   "source": [
    "For our categorical features we apply the \"one-hot encoding\" that used on dataset not have an order , and the function .get_dummies will convert our features into binary vectors so that we can perform our ML model "
   ]
  },
  {
   "cell_type": "code",
   "execution_count": 8,
   "id": "f6386ca3",
   "metadata": {},
   "outputs": [],
   "source": [
    "# One-Hot Encoding for categorical features\n",
    "data = pd.get_dummies(data, columns=categorical_features)"
   ]
  },
  {
   "cell_type": "code",
   "execution_count": 9,
   "id": "58a638db",
   "metadata": {},
   "outputs": [],
   "source": [
    "# Split into features (X) and label (y)\n",
    "X = data.drop(columns=['label'])\n",
    "y = data['label']"
   ]
  },
  {
   "cell_type": "code",
   "execution_count": 10,
   "id": "c8821567",
   "metadata": {},
   "outputs": [],
   "source": [
    "# Reshape input data for LSTM\n",
    "sequence_length = 10 \n",
    "num_features = 43"
   ]
  },
  {
   "cell_type": "raw",
   "id": "099e9505",
   "metadata": {},
   "source": [
    "The reshape function used to reshape the input data for LSTM model because we work with sequential data so that we need to convert the data into a suitable format "
   ]
  },
  {
   "cell_type": "code",
   "execution_count": 11,
   "id": "90e9e964",
   "metadata": {},
   "outputs": [],
   "source": [
    "def reshape_sequence_data(data, sequence_length):\n",
    "    sequences = []\n",
    "    for i in range(len(data) - sequence_length + 1):\n",
    "        sequence = data[i:i + sequence_length]\n",
    "        sequences.append(sequence)\n",
    "    return np.array(sequences)"
   ]
  },
  {
   "cell_type": "code",
   "execution_count": 12,
   "id": "84474062",
   "metadata": {},
   "outputs": [],
   "source": [
    "# Split the data into training and testing sets\n",
    "X_train, X_test, y_train, y_test = train_test_split(X, y, test_size=0.2, random_state=42)"
   ]
  },
  {
   "cell_type": "code",
   "execution_count": 13,
   "id": "d55ad6ac",
   "metadata": {},
   "outputs": [],
   "source": [
    "X_train = reshape_sequence_data(X_train, sequence_length)\n",
    "X_test = reshape_sequence_data(X_test, sequence_length)"
   ]
  },
  {
   "cell_type": "code",
   "execution_count": 31,
   "id": "1b220008",
   "metadata": {},
   "outputs": [],
   "source": [
    "# Sample data \n",
    "X_train = np.random.rand(1000, 10, 5)  # 1000 samples, 10 timesteps, 5 features\n",
    "y_train = np.random.randint(2, size=1000)  # Binary labels (0 or 1)"
   ]
  },
  {
   "cell_type": "markdown",
   "id": "e2647a87",
   "metadata": {},
   "source": [
    "# RNN model with LSTM"
   ]
  },
  {
   "cell_type": "raw",
   "id": "4d3c7599",
   "metadata": {},
   "source": [
    "For the splitting we will use the \"K-Fold Cross-Validation\" that divide the data into k subsets in addition to test and train the model K times therefore obtaining a good estimation of the model "
   ]
  },
  {
   "cell_type": "code",
   "execution_count": 32,
   "id": "1db70181",
   "metadata": {},
   "outputs": [],
   "source": [
    "# Perform K-Fold Cross-Validation split\n",
    "k = 5  # Number of folds\n",
    "#shuffle is 'true' so that the data is randomly shuffled before the split \n",
    "kf = KFold(n_splits=k, shuffle=True)\n",
    "\n",
    "# Lists to store performance metrics for each fold\n",
    "accuracy_scores = []\n",
    "loss_values = []"
   ]
  },
  {
   "cell_type": "code",
   "execution_count": 33,
   "id": "6d2f460a",
   "metadata": {},
   "outputs": [],
   "source": [
    "# Define the RNN model architecture\n",
    "model = tf.keras.Sequential([\n",
    "    #we choose to work with LSTM (Long Short-Term Memory), which is a type of recurrent neural network (RNN) to handle sequential data \n",
    "    #that contain two arguments : \n",
    "       #*the number of units that control the capacity of LSTM ,if nb is higher the LSTM capture more patterns \n",
    "       #*input shape : that represent our data \n",
    "    tf.keras.layers.LSTM(128, input_shape=(X_train.shape[1], X_train.shape[2])),\n",
    "    #working with DENSE that from TensorFlow's Keras API that represent the connection with the neurons in the networks , and it contain two \n",
    "     #arguments :\n",
    "       #*number of neurons or units of dense that control the number of output units \n",
    "       #*activation : is a optional parameter , here we use the'relu(Rectified Linear Unit)' so that every negative value is set to 0\n",
    "    tf.keras.layers.Dense(64, activation='relu'),\n",
    "    #It compresses the output between 0 and 1, representing the probability of the positive class in binary classification problems.\n",
    "    tf.keras.layers.Dense(1, activation='sigmoid') \n",
    "])"
   ]
  },
  {
   "cell_type": "code",
   "execution_count": 34,
   "id": "4004efb5",
   "metadata": {},
   "outputs": [],
   "source": [
    "#compiling the model contain three parameter\n",
    "  #*loss: define the function that the model will use during training, 'binary_crossentropy' used in binary classification that predicte probabilities \n",
    "  #*optimizer: for the optimization of algorithme we use 'adam' is an optimization algorithm that adjusts the learning rate in training to handle all different types of data\n",
    "  #*metrics: specifying the metrics that will be computed during training and testing so that it will compute the accuracy(proportion of correctly predicted) metric \n",
    "model.compile(loss='binary_crossentropy', optimizer='adam', metrics=['accuracy'])"
   ]
  },
  {
   "cell_type": "code",
   "execution_count": 35,
   "id": "4d2501b4",
   "metadata": {},
   "outputs": [],
   "source": [
    "\n",
    "# Reset the index of X_train and y_train\n",
    "X_train = np.array(X_train)\n",
    "y_train = np.array(y_train)"
   ]
  },
  {
   "cell_type": "code",
   "execution_count": 41,
   "id": "c43fbad0",
   "metadata": {},
   "outputs": [
    {
     "name": "stdout",
     "output_type": "stream",
     "text": [
      "Fold 1/5\n",
      "Epoch 1/10\n",
      "13/13 [==============================] - 10s 215ms/step - loss: 0.4653 - accuracy: 0.7563 - val_loss: 0.5195 - val_accuracy: 0.7400\n",
      "Epoch 2/10\n",
      "13/13 [==============================] - 2s 207ms/step - loss: 0.4537 - accuracy: 0.7825 - val_loss: 0.5129 - val_accuracy: 0.7200\n",
      "Epoch 3/10\n",
      "13/13 [==============================] - 3s 287ms/step - loss: 0.4346 - accuracy: 0.7937 - val_loss: 0.5170 - val_accuracy: 0.7450\n",
      "Epoch 4/10\n",
      "13/13 [==============================] - 4s 335ms/step - loss: 0.4033 - accuracy: 0.8037 - val_loss: 0.5303 - val_accuracy: 0.7350\n",
      "Epoch 5/10\n",
      "13/13 [==============================] - 2s 199ms/step - loss: 0.3830 - accuracy: 0.8213 - val_loss: 0.6003 - val_accuracy: 0.7000\n",
      "Epoch 6/10\n",
      "13/13 [==============================] - 4s 327ms/step - loss: 0.3896 - accuracy: 0.8213 - val_loss: 0.6288 - val_accuracy: 0.6900\n",
      "Epoch 7/10\n",
      "13/13 [==============================] - 3s 244ms/step - loss: 0.3842 - accuracy: 0.8175 - val_loss: 0.6508 - val_accuracy: 0.7000\n",
      "Epoch 8/10\n",
      "13/13 [==============================] - 3s 214ms/step - loss: 0.3577 - accuracy: 0.8450 - val_loss: 0.6882 - val_accuracy: 0.6400\n",
      "Epoch 9/10\n",
      "13/13 [==============================] - 3s 270ms/step - loss: 0.3322 - accuracy: 0.8562 - val_loss: 0.6807 - val_accuracy: 0.6950\n",
      "Epoch 10/10\n",
      "13/13 [==============================] - 3s 232ms/step - loss: 0.3215 - accuracy: 0.8587 - val_loss: 0.6718 - val_accuracy: 0.6950\n",
      "7/7 [==============================] - 2s 5ms/step - loss: 0.6718 - accuracy: 0.6950\n",
      "Fold 2/5\n",
      "Epoch 1/10\n",
      "13/13 [==============================] - 9s 286ms/step - loss: 0.4455 - accuracy: 0.8025 - val_loss: 0.2537 - val_accuracy: 0.9150\n",
      "Epoch 2/10\n",
      "13/13 [==============================] - 3s 261ms/step - loss: 0.3843 - accuracy: 0.8263 - val_loss: 0.3492 - val_accuracy: 0.8600\n",
      "Epoch 3/10\n",
      "13/13 [==============================] - 3s 241ms/step - loss: 0.3561 - accuracy: 0.8525 - val_loss: 0.2871 - val_accuracy: 0.8800\n",
      "Epoch 4/10\n",
      "13/13 [==============================] - 3s 282ms/step - loss: 0.3003 - accuracy: 0.8913 - val_loss: 0.3712 - val_accuracy: 0.8150\n",
      "Epoch 5/10\n",
      "13/13 [==============================] - 3s 259ms/step - loss: 0.2933 - accuracy: 0.8725 - val_loss: 0.3546 - val_accuracy: 0.8250\n",
      "Epoch 6/10\n",
      "13/13 [==============================] - 3s 274ms/step - loss: 0.2620 - accuracy: 0.8988 - val_loss: 0.3568 - val_accuracy: 0.8350\n",
      "Epoch 7/10\n",
      "13/13 [==============================] - 4s 299ms/step - loss: 0.2532 - accuracy: 0.9013 - val_loss: 0.4041 - val_accuracy: 0.8000\n",
      "Epoch 8/10\n",
      "13/13 [==============================] - 3s 232ms/step - loss: 0.2454 - accuracy: 0.9050 - val_loss: 0.4289 - val_accuracy: 0.7850\n",
      "Epoch 9/10\n",
      "13/13 [==============================] - 4s 296ms/step - loss: 0.2065 - accuracy: 0.9225 - val_loss: 0.5173 - val_accuracy: 0.7600\n",
      "Epoch 10/10\n",
      "13/13 [==============================] - 3s 263ms/step - loss: 0.2011 - accuracy: 0.9275 - val_loss: 0.4200 - val_accuracy: 0.7700\n",
      "7/7 [==============================] - 2s 5ms/step - loss: 0.4200 - accuracy: 0.7700\n",
      "Fold 3/5\n",
      "Epoch 1/10\n",
      "13/13 [==============================] - 7s 192ms/step - loss: 0.2773 - accuracy: 0.8725 - val_loss: 0.2566 - val_accuracy: 0.9000\n",
      "Epoch 2/10\n",
      "13/13 [==============================] - 4s 307ms/step - loss: 0.2476 - accuracy: 0.9062 - val_loss: 0.1996 - val_accuracy: 0.9400\n",
      "Epoch 3/10\n",
      "13/13 [==============================] - 3s 210ms/step - loss: 0.2123 - accuracy: 0.9162 - val_loss: 0.3012 - val_accuracy: 0.8700\n",
      "Epoch 4/10\n",
      "13/13 [==============================] - 4s 334ms/step - loss: 0.2065 - accuracy: 0.9287 - val_loss: 0.2369 - val_accuracy: 0.9250\n",
      "Epoch 5/10\n",
      "13/13 [==============================] - 4s 332ms/step - loss: 0.2124 - accuracy: 0.9200 - val_loss: 0.2630 - val_accuracy: 0.8800\n",
      "Epoch 6/10\n",
      "13/13 [==============================] - 4s 306ms/step - loss: 0.1801 - accuracy: 0.9362 - val_loss: 0.2959 - val_accuracy: 0.8500\n",
      "Epoch 7/10\n",
      "13/13 [==============================] - 3s 209ms/step - loss: 0.1976 - accuracy: 0.9250 - val_loss: 0.4582 - val_accuracy: 0.8000\n",
      "Epoch 8/10\n",
      "13/13 [==============================] - 4s 317ms/step - loss: 0.2043 - accuracy: 0.9225 - val_loss: 0.3185 - val_accuracy: 0.8650\n",
      "Epoch 9/10\n",
      "13/13 [==============================] - 4s 321ms/step - loss: 0.1679 - accuracy: 0.9375 - val_loss: 0.3712 - val_accuracy: 0.8300\n",
      "Epoch 10/10\n",
      "13/13 [==============================] - 3s 222ms/step - loss: 0.1240 - accuracy: 0.9613 - val_loss: 0.4046 - val_accuracy: 0.8250\n",
      "7/7 [==============================] - 2s 5ms/step - loss: 0.4046 - accuracy: 0.8250\n",
      "Fold 4/5\n",
      "Epoch 1/10\n",
      "13/13 [==============================] - 9s 289ms/step - loss: 0.1964 - accuracy: 0.9250 - val_loss: 0.1542 - val_accuracy: 0.9450\n",
      "Epoch 2/10\n",
      "13/13 [==============================] - 3s 243ms/step - loss: 0.1439 - accuracy: 0.9500 - val_loss: 0.1349 - val_accuracy: 0.9350\n",
      "Epoch 3/10\n",
      "13/13 [==============================] - 2s 193ms/step - loss: 0.1130 - accuracy: 0.9663 - val_loss: 0.1185 - val_accuracy: 0.9500\n",
      "Epoch 4/10\n",
      "13/13 [==============================] - 2s 187ms/step - loss: 0.0963 - accuracy: 0.9737 - val_loss: 0.1249 - val_accuracy: 0.9450\n",
      "Epoch 5/10\n",
      "13/13 [==============================] - 3s 250ms/step - loss: 0.0753 - accuracy: 0.9812 - val_loss: 0.1485 - val_accuracy: 0.9600\n",
      "Epoch 6/10\n",
      "13/13 [==============================] - 3s 224ms/step - loss: 0.0612 - accuracy: 0.9900 - val_loss: 0.1387 - val_accuracy: 0.9400\n",
      "Epoch 7/10\n",
      "13/13 [==============================] - 2s 188ms/step - loss: 0.0445 - accuracy: 0.9987 - val_loss: 0.1148 - val_accuracy: 0.9600\n",
      "Epoch 8/10\n",
      "13/13 [==============================] - 3s 252ms/step - loss: 0.0349 - accuracy: 0.9987 - val_loss: 0.1221 - val_accuracy: 0.9600\n",
      "Epoch 9/10\n",
      "13/13 [==============================] - 4s 322ms/step - loss: 0.0266 - accuracy: 1.0000 - val_loss: 0.1201 - val_accuracy: 0.9500\n",
      "Epoch 10/10\n",
      "13/13 [==============================] - 3s 229ms/step - loss: 0.0227 - accuracy: 1.0000 - val_loss: 0.1497 - val_accuracy: 0.9400\n",
      "7/7 [==============================] - 3s 5ms/step - loss: 0.1497 - accuracy: 0.9400\n",
      "Fold 5/5\n",
      "Epoch 1/10\n",
      "13/13 [==============================] - 9s 204ms/step - loss: 0.0555 - accuracy: 0.9887 - val_loss: 0.0379 - val_accuracy: 0.9950\n",
      "Epoch 2/10\n",
      "13/13 [==============================] - 3s 254ms/step - loss: 0.0511 - accuracy: 0.9875 - val_loss: 0.0465 - val_accuracy: 1.0000\n",
      "Epoch 3/10\n",
      "13/13 [==============================] - 3s 212ms/step - loss: 0.0501 - accuracy: 0.9862 - val_loss: 0.0701 - val_accuracy: 0.9800\n",
      "Epoch 4/10\n",
      "13/13 [==============================] - 3s 243ms/step - loss: 0.0417 - accuracy: 0.9900 - val_loss: 0.0734 - val_accuracy: 0.9800\n",
      "Epoch 5/10\n",
      "13/13 [==============================] - 3s 228ms/step - loss: 0.0341 - accuracy: 0.9937 - val_loss: 0.0682 - val_accuracy: 0.9800\n",
      "Epoch 6/10\n",
      "13/13 [==============================] - 3s 238ms/step - loss: 0.0357 - accuracy: 0.9937 - val_loss: 0.0735 - val_accuracy: 0.9800\n",
      "Epoch 7/10\n",
      "13/13 [==============================] - 3s 216ms/step - loss: 0.0487 - accuracy: 0.9912 - val_loss: 0.0832 - val_accuracy: 0.9650\n",
      "Epoch 8/10\n",
      "13/13 [==============================] - 3s 216ms/step - loss: 0.0332 - accuracy: 0.9925 - val_loss: 0.1289 - val_accuracy: 0.9550\n",
      "Epoch 9/10\n",
      "13/13 [==============================] - 3s 239ms/step - loss: 0.0260 - accuracy: 0.9987 - val_loss: 0.0949 - val_accuracy: 0.9650\n",
      "Epoch 10/10\n",
      "13/13 [==============================] - 2s 204ms/step - loss: 0.0339 - accuracy: 0.9925 - val_loss: 0.0979 - val_accuracy: 0.9800\n",
      "7/7 [==============================] - 3s 5ms/step - loss: 0.0979 - accuracy: 0.9800\n"
     ]
    }
   ],
   "source": [
    "# Perform K-Fold Cross-Validation\n",
    "#for the kf.split it return iterators that yield for each fold spliting the data into validation set and training set\n",
    "for fold, (train_idx, val_idx) in enumerate(kf.split(X_train)):\n",
    "    print(f\"Fold {fold + 1}/{k}\")\n",
    "    \n",
    "    # Split data into training and validation sets for this fold\n",
    "    X_train_fold, X_val_fold = X_train[train_idx], X_train[val_idx]\n",
    "    y_train_fold, y_val_fold = y_train[train_idx], y_train[val_idx]\n",
    "    # Train the model on this fold\n",
    "    #The epochs: parameter specifies the number of times that is passed forward and backward through the model in training\n",
    "    #batch_size: for not updating the weights model each time we specify a batch_size lead us to a faster training if the \n",
    "     #the value is big \n",
    "    history = model.fit(X_train_fold, y_train_fold, epochs=10, batch_size=64, validation_data=(X_val_fold, y_val_fold))\n",
    "    #history\n",
    "    # Evaluate the model\n",
    "    _, accuracy = model.evaluate(X_val_fold, y_val_fold)  \n",
    "    accuracy_scores.append(accuracy)\n",
    "     # Store the loss value for this fold\n",
    "    loss_values.append(history.history['loss'][-1])\n",
    "    "
   ]
  },
  {
   "cell_type": "code",
   "execution_count": 42,
   "id": "f2e505f5",
   "metadata": {},
   "outputs": [
    {
     "name": "stdout",
     "output_type": "stream",
     "text": [
      "Average accuracy: 0.7305000007152558\n",
      "Average loss: 0.14065735675394536\n"
     ]
    }
   ],
   "source": [
    "# Calculate and print average performance metrics across all folds\n",
    "print(f\"Average accuracy: {np.mean(accuracy_scores)}\")\n",
    "print(f\"Average loss: {np.mean(loss_values)}\")"
   ]
  },
  {
   "cell_type": "code",
   "execution_count": 43,
   "id": "b5640a9a",
   "metadata": {},
   "outputs": [
    {
     "name": "stdout",
     "output_type": "stream",
     "text": [
      "Training Loss: [0.05554382503032684, 0.051120515912771225, 0.050127867609262466, 0.041677411645650864, 0.03414593264460564, 0.03573083505034447, 0.048734866082668304, 0.03316540643572807, 0.02597968839108944, 0.03391144797205925]\n",
      "Training Accuracy: [0.9887499809265137, 0.987500011920929, 0.9862499833106995, 0.9900000095367432, 0.9937499761581421, 0.9937499761581421, 0.9912499785423279, 0.9925000071525574, 0.9987499713897705, 0.9925000071525574]\n",
      "Validation Loss: [0.03791624680161476, 0.046471577137708664, 0.07012210041284561, 0.07340013235807419, 0.06822268664836884, 0.07353547215461731, 0.08315815776586533, 0.12894390523433685, 0.09488075971603394, 0.09792698174715042]\n",
      "Validation Accuracy: [0.9950000047683716, 1.0, 0.9800000190734863, 0.9800000190734863, 0.9800000190734863, 0.9800000190734863, 0.9649999737739563, 0.9549999833106995, 0.9649999737739563, 0.9800000190734863]\n"
     ]
    }
   ],
   "source": [
    "# Display the loss and accuracy during training\n",
    "train_loss = history.history['loss']\n",
    "train_accuracy = history.history['accuracy']\n",
    "val_loss = history.history['val_loss']\n",
    "val_accuracy = history.history['val_accuracy']\n",
    "\n",
    "print(\"Training Loss:\", train_loss)\n",
    "print(\"Training Accuracy:\", train_accuracy)\n",
    "print(\"Validation Loss:\", val_loss)\n",
    "print(\"Validation Accuracy:\", val_accuracy)"
   ]
  },
  {
   "cell_type": "code",
   "execution_count": 44,
   "id": "e07910a4",
   "metadata": {},
   "outputs": [
    {
     "data": {
      "image/png": "[encoded data removed]",
      "text/plain": [
       "<Figure size 640x480 with 1 Axes>"
      ]
     },
     "metadata": {},
     "output_type": "display_data"
    }
   ],
   "source": [
    "# Plot the training and validation loss\n",
    "plt.plot(history.history['loss'], label='Training Loss')\n",
    "plt.plot(history.history['val_loss'], label='Validation Loss')\n",
    "plt.xlabel('Epochs')\n",
    "plt.ylabel('Loss')\n",
    "plt.legend()\n",
    "plt.show()"
   ]
  },
  {
   "cell_type": "code",
   "execution_count": 45,
   "id": "69ccbedd",
   "metadata": {},
   "outputs": [
    {
     "data": {
      "image/png": "[encoded data removed]",
      "text/plain": [
       "<Figure size 640x480 with 1 Axes>"
      ]
     },
     "metadata": {},
     "output_type": "display_data"
    }
   ],
   "source": [
    "# Plot the training and validation accuracy\n",
    "plt.plot(history.history['accuracy'], label='Training Accuracy')\n",
    "plt.plot(history.history['val_accuracy'], label='Validation Accuracy')\n",
    "plt.xlabel('Epochs')\n",
    "plt.ylabel('Accuracy')\n",
    "plt.legend()\n",
    "plt.show()"
   ]
  }
 ],
 "metadata": {
  "kernelspec": {
   "display_name": "Python 3 (ipykernel)",
   "language": "python",
   "name": "python3"
  },
  "language_info": {
   "codemirror_mode": {
    "name": "ipython",
    "version": 3
   },
   "file_extension": ".py",
   "mimetype": "text/x-python",
   "name": "python",
   "nbconvert_exporter": "python",
   "pygments_lexer": "ipython3",
   "version": "3.11.3"
  }
 },
 "nbformat": 4,
 "nbformat_minor": 5
}
